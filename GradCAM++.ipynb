{
 "cells": [
  {
   "cell_type": "code",
   "execution_count": 40,
   "metadata": {},
   "outputs": [],
   "source": [
    "import argparse\n",
    "import os\n",
    "import gzip\n",
    "\n",
    "from termcolor import cprint\n",
    "\n",
    "from PIL import Image\n",
    "\n",
    "import numpy as np\n",
    "import pandas as pd\n",
    "\n",
    "import matplotlib.cm as cm\n",
    "from matplotlib import pyplot as plt\n",
    "\n",
    "\n",
    "from vis.visualization import visualize_saliency, overlay, visualize_cam\n",
    "from vis.utils import utils\n",
    "\n",
    "import tensorflow as tf\n",
    "\n",
    "import cv2\n",
    "from keras import models \n",
    "from keras import backend as K"
   ]
  },
  {
   "cell_type": "code",
   "execution_count": 41,
   "metadata": {},
   "outputs": [],
   "source": [
    "def binary_focal_loss(y_true, y_pred):\n",
    "  \"\"\"\n",
    "  :param y_true: A tensor of the same shape as `y_pred`\n",
    "  :param y_pred:  A tensor resulting from a sigmoid\n",
    "  :return: Output tensor.\n",
    "  \"\"\"\n",
    "  gamma = 2.\n",
    "  alpha = .25\n",
    "\n",
    "  pt_1 = tf.where(tf.equal(y_true, 1), y_pred, tf.ones_like(y_pred))\n",
    "  pt_0 = tf.where(tf.equal(y_true, 0), y_pred, tf.zeros_like(y_pred))\n",
    "\n",
    "  epsilon = K.epsilon()\n",
    "  # clip to prevent NaN's and Inf's\n",
    "  pt_1 = K.clip(pt_1, epsilon, 1. - epsilon)\n",
    "  pt_0 = K.clip(pt_0, epsilon, 1. - epsilon)\n",
    "\n",
    "  return -K.sum(alpha * K.pow(1. - pt_1, gamma) * K.log(pt_1)) \\\n",
    "         - K.sum((1 - alpha) * K.pow(pt_0, gamma) * K.log(1. - pt_0))"
   ]
  },
  {
   "cell_type": "code",
   "execution_count": 43,
   "metadata": {},
   "outputs": [],
   "source": [
    "def normalize(x):\n",
    "        \"\"\"Utility function to normalize a tensor by its L2 norm\"\"\"\n",
    "        return (x + 1e-10) / (K.sqrt(K.mean(K.square(x))) + 1e-10)"
   ]
  },
  {
   "cell_type": "code",
   "execution_count": 48,
   "metadata": {},
   "outputs": [],
   "source": [
    "def GradCam(model, img_array, layer_name):\n",
    "    cls = np.argmax(model.predict(img_array))\n",
    "    \n",
    "    \"\"\"GradCAM method for visualizing input saliency.\"\"\"\n",
    "    y_c = model.output[0, cls]\n",
    "    conv_output = model.get_layer(layer_name).output\n",
    "    grads = tf.gradients(y_c, conv_output)[0]\n",
    "    # grads = normalize(grads)\n",
    "\n",
    "    gradient_function = K.function([model.input], [conv_output, grads])\n",
    "    output, grads_val = gradient_function([img_array])\n",
    "    output, grads_val = output[0, :], grads_val[0, :, :, :]\n",
    "    weights = np.mean(grads_val, axis=(0, 1))\n",
    "\n",
    "    cam = np.dot(output, weights)\n",
    "    cam = np.maximum(cam, 0)  # Passing through ReLU\n",
    "    cam /= np.max(cam)  # scale 0 to 1.0  \n",
    "\n",
    "    return cam"
   ]
  },
  {
   "cell_type": "code",
   "execution_count": 44,
   "metadata": {},
   "outputs": [],
   "source": [
    "def GradCamPlusPlus(model, img_array, layer_name):\n",
    "    cls = model.predict(img_array)\n",
    "    y_c = model.output[0]\n",
    "    conv_output = model.get_layer(layer_name).output\n",
    "    grads = K.gradients(y_c, conv_output)[0]\n",
    "    grads = normalize(grads)\n",
    "    \n",
    "    first = K.exp(y_c)*grads\n",
    "    second = K.exp(y_c)*grads*grads\n",
    "    third = K.exp(y_c)*grads*grads*grads\n",
    "\n",
    "    gradient_function = K.function([model.input], [y_c,first,second,third, conv_output, grads])\n",
    "    y_c, conv_first_grad, conv_second_grad,conv_third_grad, conv_output, grads_val = gradient_function([img_array])\n",
    "    global_sum = np.sum(conv_output[0].reshape((-1,conv_first_grad[0].shape[2])), axis=0)\n",
    "  \n",
    "    alpha_num = conv_second_grad[0]\n",
    "    alpha_denom = conv_second_grad[0]*2.0 + conv_third_grad[0]*global_sum.reshape((1,1,conv_first_grad[0].shape[2]))\n",
    "    alpha_denom = np.where(alpha_denom != 0.0, alpha_denom, np.ones(alpha_denom.shape))\n",
    "    alphas = alpha_num/alpha_denom\n",
    "    \n",
    "    weights = np.maximum(conv_first_grad[0], 0.0)\n",
    "    alpha_normalization_constant = np.sum(np.sum(alphas, axis=0),axis=0)\n",
    "    alphas /= alpha_normalization_constant.reshape((1,1,conv_first_grad[0].shape[2]))\n",
    "    deep_linearization_weights = np.sum((weights*alphas).reshape((-1,conv_first_grad[0].shape[2])),axis=0)\n",
    "\n",
    "    cam = np.sum(deep_linearization_weights*conv_output[0], axis=2)\n",
    "    cam = np.maximum(cam, 0)  # Passing through ReLU\n",
    "    cam /= np.max(cam) # scale 0 to 1.0\n",
    "\n",
    "    return cam"
   ]
  },
  {
   "cell_type": "code",
   "execution_count": 80,
   "metadata": {},
   "outputs": [],
   "source": [
    "img1 = Image.open(\"2018-03-29_02-33-16.png\")\n",
    "arr1 = np.array(img1)\n",
    "arr1 = arr1[0:300,]\n",
    "arr1_old = arr1\n",
    "arr1 = arr1 / 255\n",
    "arr1 = arr1.reshape((1,)+arr1.shape+(1,))"
   ]
  },
  {
   "cell_type": "code",
   "execution_count": 85,
   "metadata": {},
   "outputs": [],
   "source": [
    "img2 = Image.open(\"34_29465_1524965783_1524965794.png\")\n",
    "arr2 = np.array(img2)\n",
    "arr2 = arr2[0:300,]\n",
    "arr2_old = arr2\n",
    "arr2 = arr2 / 255\n",
    "arr2 = arr2.reshape((1,)+arr2.shape+(1,))"
   ]
  },
  {
   "cell_type": "code",
   "execution_count": 61,
   "metadata": {},
   "outputs": [
    {
     "name": "stdout",
     "output_type": "stream",
     "text": [
      "Keras output:\n",
      "[[0.08279597]]\n"
     ]
    }
   ],
   "source": [
    "model = models.load_model(\"model6.hdf5\", custom_objects = {\"loss_function\": binary_focal_loss})\n",
    "output = model.predict(arr1)\n",
    "print(\"Keras output:\")\n",
    "print(output)\n",
    "\n",
    "#2018-03-29_02-33-16.png is negative"
   ]
  },
  {
   "cell_type": "code",
   "execution_count": 58,
   "metadata": {},
   "outputs": [
    {
     "name": "stdout",
     "output_type": "stream",
     "text": [
      "Keras output:\n",
      "[[0.99961275]]\n"
     ]
    }
   ],
   "source": [
    "output = model.predict(arr2)\n",
    "print(\"Keras output:\")\n",
    "print(output)\n",
    "\n",
    "#34_29465_1524965783_1524965794.png is positive"
   ]
  },
  {
   "cell_type": "code",
   "execution_count": 66,
   "metadata": {},
   "outputs": [
    {
     "data": {
      "image/png": "[encoded data removed]",
      "text/plain": [
       "<Figure size 432x288 with 3 Axes>"
      ]
     },
     "metadata": {
      "needs_background": "light"
     },
     "output_type": "display_data"
    }
   ],
   "source": [
    "grads = GradCamPlusPlus(model, arr1, \"conv4\")\n",
    "grads = cv2.resize(grads, (7, 300))\n",
    "grads = np.repeat(grads, 10, axis = 1)\n",
    "arr1_old = cv2.bitwise_not(np.repeat(arr1_old, 10, axis = 1))\n",
    "arr1_old = arr1_old.reshape(arr1_old.shape+(1,))\n",
    "arr1_old = cv2.cvtColor(arr1_old, cv2.COLOR_GRAY2BGR)\n",
    "jet_heatmap = np.uint8(cm.jet(grads)[..., :3] * 255)\n",
    "\n",
    "f, ax = plt.subplots(1, 3)\n",
    "plt.suptitle(\"GradCAM++\")\n",
    "ax[0].imshow(overlay(jet_heatmap, arr1_old))\n",
    "ax[1].imshow(jet_heatmap)\n",
    "ax[2].imshow(arr1_old)\n",
    "plt.show()\n"
   ]
  },
  {
   "cell_type": "code",
   "execution_count": 76,
   "metadata": {},
   "outputs": [
    {
     "data": {
      "image/png": "[encoded data removed]",
      "text/plain": [
       "<Figure size 432x288 with 3 Axes>"
      ]
     },
     "metadata": {
      "needs_background": "light"
     },
     "output_type": "display_data"
    }
   ],
   "source": [
    "grads = GradCam(model, arr1, \"conv4\")\n",
    "grads = cv2.resize(grads, (7, 300))\n",
    "grads = np.repeat(grads, 10, axis = 1)\n",
    "arr1_old = cv2.bitwise_not(np.repeat(arr1_old, 10, axis = 1))\n",
    "arr1_old = arr1_old.reshape(arr1_old.shape+(1,))\n",
    "arr1_old = cv2.cvtColor(arr1_old, cv2.COLOR_GRAY2BGR)\n",
    "jet_heatmap = np.uint8(cm.jet(grads)[..., :3] * 255)\n",
    "\n",
    "f, ax = plt.subplots(1, 3)\n",
    "plt.suptitle(\"GradCAM\")\n",
    "ax[0].imshow(overlay(jet_heatmap, arr1_old))\n",
    "ax[1].imshow(jet_heatmap)\n",
    "ax[2].imshow(arr1_old)\n",
    "plt.show()"
   ]
  },
  {
   "cell_type": "code",
   "execution_count": 86,
   "metadata": {},
   "outputs": [
    {
     "data": {
      "image/png": "[encoded data removed]",
      "text/plain": [
       "<Figure size 432x288 with 3 Axes>"
      ]
     },
     "metadata": {
      "needs_background": "light"
     },
     "output_type": "display_data"
    }
   ],
   "source": [
    "grads = GradCamPlusPlus(model, arr2, \"conv4\")\n",
    "grads = cv2.resize(grads, (7, 300))\n",
    "grads = np.repeat(grads, 10, axis = 1)\n",
    "arr2_old = cv2.bitwise_not(np.repeat(arr2_old, 10, axis = 1))\n",
    "arr2_old = arr2_old.reshape(arr2_old.shape+(1,))\n",
    "arr2_old = cv2.cvtColor(arr2_old, cv2.COLOR_GRAY2BGR)\n",
    "jet_heatmap = np.uint8(cm.jet(grads)[..., :3] * 255)\n",
    "\n",
    "f, ax = plt.subplots(1, 3)\n",
    "plt.suptitle(\"GradCAM++\")\n",
    "ax[0].imshow(overlay(jet_heatmap, arr2_old))\n",
    "ax[1].imshow(jet_heatmap)\n",
    "ax[2].imshow(arr2_old)\n",
    "plt.show()\n",
    "\n"
   ]
  },
  {
   "cell_type": "code",
   "execution_count": 82,
   "metadata": {},
   "outputs": [
    {
     "data": {
      "image/png": "[encoded data removed]",
      "text/plain": [
       "<Figure size 432x288 with 3 Axes>"
      ]
     },
     "metadata": {
      "needs_background": "light"
     },
     "output_type": "display_data"
    }
   ],
   "source": [
    "grads = GradCam(model, arr2, \"conv4\")\n",
    "grads = cv2.resize(grads, (7, 300))\n",
    "grads = np.repeat(grads, 10, axis = 1)\n",
    "arr2_old = cv2.bitwise_not(np.repeat(arr2_old, 10, axis = 1))\n",
    "arr2_old = arr2_old.reshape(arr2_old.shape+(1,))\n",
    "arr2_old = cv2.cvtColor(arr2_old, cv2.COLOR_GRAY2BGR)\n",
    "jet_heatmap = np.uint8(cm.jet(grads)[..., :3] * 255)\n",
    "\n",
    "f, ax = plt.subplots(1, 3)\n",
    "plt.suptitle(\"GradCAM\")\n",
    "ax[0].imshow(overlay(jet_heatmap, arr2_old))\n",
    "ax[1].imshow(jet_heatmap)\n",
    "ax[2].imshow(arr2_old)\n",
    "plt.show()\n",
    "\n"
   ]
  },
  {
   "cell_type": "code",
   "execution_count": null,
   "metadata": {},
   "outputs": [],
   "source": []
  }
 ],
 "metadata": {
  "kernelspec": {
   "display_name": "Python 3",
   "language": "python",
   "name": "python3"
  },
  "language_info": {
   "codemirror_mode": {
    "name": "ipython",
    "version": 3
   },
   "file_extension": ".py",
   "mimetype": "text/x-python",
   "name": "python",
   "nbconvert_exporter": "python",
   "pygments_lexer": "ipython3",
   "version": "3.7.3"
  }
 },
 "nbformat": 4,
 "nbformat_minor": 2
}
